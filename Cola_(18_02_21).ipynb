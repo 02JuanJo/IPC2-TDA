{
  "nbformat": 4,
  "nbformat_minor": 0,
  "metadata": {
    "colab": {
      "name": "Cola (18/02/21).ipynb",
      "provenance": [],
      "authorship_tag": "ABX9TyMyCXmu/OYgcVL1nEDHF1ww",
      "include_colab_link": true
    },
    "kernelspec": {
      "name": "python3",
      "display_name": "Python 3"
    }
  },
  "cells": [
    {
      "cell_type": "markdown",
      "metadata": {
        "id": "view-in-github",
        "colab_type": "text"
      },
      "source": [
        "<a href=\"https://colab.research.google.com/github/02JuanJo/IPC2-TDA/blob/main/Cola_(18_02_21).ipynb\" target=\"_parent\"><img src=\"https://colab.research.google.com/assets/colab-badge.svg\" alt=\"Open In Colab\"/></a>"
      ]
    },
    {
      "cell_type": "code",
      "metadata": {
        "id": "V_HjemgoiEy8"
      },
      "source": [
        "class Cola: \r\n",
        "  def __init__ (self):\r\n",
        "    self.cola = []\r\n",
        "\r\n",
        "  def encolar(self, cliente):\r\n",
        "    self.cola.append(cliente)\r\n",
        "\r\n",
        "  def devolver_tamano(self):\r\n",
        "    return len(self.cola)\r\n",
        "\r\n",
        "  def imprimir(self):\r\n",
        "    for elemento in self.cola:\r\n",
        "      print(elemento.nombre, end = \" <=\")\r\n",
        "  \r\n",
        "  def desencolar(self):\r\n",
        "    if self.cola:\r\n",
        "      self.cola.pop(0)"
      ],
      "execution_count": 10,
      "outputs": []
    },
    {
      "cell_type": "code",
      "metadata": {
        "id": "PKNoZLsaijP1"
      },
      "source": [
        "class cliente:\r\n",
        "  def __init__(self, nombre, no_habitacion):\r\n",
        "    self.nombre = nombre\r\n",
        "    self.no_habitacion = no_habitacion"
      ],
      "execution_count": 11,
      "outputs": []
    },
    {
      "cell_type": "code",
      "metadata": {
        "id": "Oe5AGmioijuz"
      },
      "source": [
        "c1 = cliente(\"Estuardo Zapeta\", 101)\r\n",
        "c2 = cliente(\"Marco López\", 103)\r\n",
        "c3 = cliente(\"Josue Armas\", 204)\r\n",
        "c4 = cliente(\"Iván López\", 450)"
      ],
      "execution_count": 12,
      "outputs": []
    },
    {
      "cell_type": "code",
      "metadata": {
        "colab": {
          "base_uri": "https://localhost:8080/"
        },
        "id": "qeBjzfyAjAkM",
        "outputId": "6b9f7558-438a-4cc4-fc54-1b32bdeb9aae"
      },
      "source": [
        "p = Cola()\r\n",
        "p.encolar(c1)\r\n",
        "p.encolar(c2)\r\n",
        "p.encolar(c3)\r\n",
        "p.encolar(c4)\r\n",
        "p.devolver_tamano()\r\n",
        "p.imprimir()"
      ],
      "execution_count": 13,
      "outputs": [
        {
          "output_type": "stream",
          "text": [
            "Estuardo Zapeta <=Marco López <=Josue Armas <=Iván López <="
          ],
          "name": "stdout"
        }
      ]
    },
    {
      "cell_type": "code",
      "metadata": {
        "colab": {
          "base_uri": "https://localhost:8080/"
        },
        "id": "hb8y_23EkPXO",
        "outputId": "7c40fdf7-a4ab-4f06-9f04-1e963921fe43"
      },
      "source": [
        "p.desencolar()\r\n",
        "p.imprimir()"
      ],
      "execution_count": 14,
      "outputs": [
        {
          "output_type": "stream",
          "text": [
            "Marco López <=Josue Armas <=Iván López <="
          ],
          "name": "stdout"
        }
      ]
    }
  ]
}