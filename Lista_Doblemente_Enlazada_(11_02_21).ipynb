{
  "nbformat": 4,
  "nbformat_minor": 0,
  "metadata": {
    "colab": {
      "name": "Lista Doblemente Enlazada - (11-02-21)",
      "provenance": [],
      "authorship_tag": "ABX9TyM0QP9lJbSnNw5t381qUCrh",
      "include_colab_link": true
    },
    "kernelspec": {
      "name": "python3",
      "display_name": "Python 3"
    }
  },
  "cells": [
    {
      "cell_type": "markdown",
      "metadata": {
        "id": "view-in-github",
        "colab_type": "text"
      },
      "source": [
        "<a href=\"https://colab.research.google.com/github/02JuanJo/IPC2-TDA/blob/main/Lista_Doblemente_Enlazada_(11_02_21).ipynb\" target=\"_parent\"><img src=\"https://colab.research.google.com/assets/colab-badge.svg\" alt=\"Open In Colab\"/></a>"
      ]
    },
    {
      "cell_type": "code",
      "metadata": {
        "id": "u0Da0DgOjVjX"
      },
      "source": [
        "class cliente:\r\n",
        "  def __init__(self, nombre, no_habitacion):\r\n",
        "    self.nombre = nombre\r\n",
        "    self.no_habitacion = no_habitacion"
      ],
      "execution_count": null,
      "outputs": []
    },
    {
      "cell_type": "code",
      "metadata": {
        "id": "MekN1VPmhu4f"
      },
      "source": [
        "class node_de:\r\n",
        "  def __init__ (self, cliente = None, next = None, previous = None):\r\n",
        "    self.cliente = cliente\r\n",
        "    self.previous = previous\r\n",
        "    self.next = next\r\n",
        "    "
      ],
      "execution_count": null,
      "outputs": []
    }
  ]
}